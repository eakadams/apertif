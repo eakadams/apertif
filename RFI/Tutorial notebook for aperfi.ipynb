{
 "cells": [
  {
   "cell_type": "markdown",
   "metadata": {},
   "source": [
    "aperfi is a module for apercal (in third_party) designed by Filippo Maccagni for examing RFI in Apertif data\n",
    "<br>\n",
    "<br>\n",
    "Up-to-date versions of the modules can be found at: https://github.com/Fil8/Apertif_modules and can be installed locally with `git clone https://github.com/Fil8/Apertif_modules.git`\n",
    "<br><br>\n",
    "`aperfi_class.py` and `setinit_an.py` should then be copied into the `third_party` folder in your apercal directory.\n",
    "<br><br>\n",
    "This is a notebook by Betsey Adams as a tutorial for the functionality and how to use Aperfi.\n",
    "<br><br>\n",
    "This notebook should be run on happili-05 (test data is there).\n",
    "<br> <br>\n",
    "This notebook is updated 3 May 2018, basedon the script `aperfi_script.py` found in the git repository.\n"
   ]
  },
  {
   "cell_type": "code",
   "execution_count": 1,
   "metadata": {},
   "outputs": [
    {
     "name": "stderr",
     "output_type": "stream",
     "text": [
      "/home/apercal/pipeline/local/lib/python2.7/site-packages/pyfits/__init__.py:22: PyFITSDeprecationWarning: PyFITS is deprecated, please use astropy.io.fits\n",
      "  PyFITSDeprecationWarning)  # noqa\n",
      "/home/apercal/pipeline/local/lib/python2.7/site-packages/matplotlib/cbook/deprecation.py:106: MatplotlibDeprecationWarning: The mpl_toolkits.axes_grid module was deprecated in version 2.1. Use mpl_toolkits.axes_grid1 and mpl_toolkits.axisartist provies the same functionality instead.\n",
      "  warnings.warn(message, mplDeprecation, stacklevel=1)\n"
     ]
    },
    {
     "name": "stdout",
     "output_type": "stream",
     "text": [
      "Setup logger with lib.setup_logger()\n"
     ]
    }
   ],
   "source": [
    "#First, load the needed packages\n",
    "from third_party.aperfi_class import aperfi_class as aperfi\n",
    "import sys, os\n",
    "import aplpy\n",
    "import matplotlib.pyplot as plt\n",
    "\n",
    "#No need to set up a log (as in apercal) because nothing is reported to logger"
   ]
  },
  {
   "cell_type": "code",
   "execution_count": 2,
   "metadata": {},
   "outputs": [
    {
     "name": "stdout",
     "output_type": "stream",
     "text": [
      "RFI\n",
      "\taperfi_uvaver = True\n",
      "\taperfi_badant = []\n",
      "\taperfi_rmsclip = 5\n",
      "\taperfi_rfifree_min = 1422000000.0\n",
      "\taperfi_rfifree_max = 1430000000.0\n"
     ]
    }
   ],
   "source": [
    "#load the configuration file and check it\n",
    "filename = '/home/adams/apertif/RFI/rfi.cfga'\n",
    "arfi = aperfi(filename) #Call this arfi so can rerun as needed (don't overwrite aperfi as module)\n",
    "arfi.show()"
   ]
  },
  {
   "cell_type": "code",
   "execution_count": 3,
   "metadata": {},
   "outputs": [
    {
     "name": "stdout",
     "output_type": "stream",
     "text": [
      "/data/adams/apertif/busydays/RFI/B000/rfi/\n"
     ]
    }
   ],
   "source": [
    "#Check that working directory is set properly in config file:\n",
    "print arfi.rfidir"
   ]
  },
  {
   "cell_type": "code",
   "execution_count": 4,
   "metadata": {},
   "outputs": [
    {
     "name": "stdout",
     "output_type": "stream",
     "text": [
      "Successful readonly open of default-locked table /data/adams/apertif/busydays/RFI/B000/raw/WSRTA180309008_B000.MS: 23 columns, 15510 rows\n",
      "Successful readonly open of default-locked table /data/adams/apertif/busydays/RFI/B000/raw/WSRTA180309008_B000.MS/ANTENNA: 8 columns, 11 rows\n",
      "\tTotal number of antennas\t:11\n",
      "\tAntenna names\t[ 0  1  2  3  4  5  6  7  8  9 10]\n",
      "Successful readonly open of default-locked table /data/adams/apertif/busydays/RFI/B000/raw/WSRTA180309008_B000.MS/SPECTRAL_WINDOW: 14 columns, 1 rows\n",
      "\tBandwidth [kHz]\t:12.20703125\n",
      "\tStart Frequency [GHz]\t:1.306640625\n",
      "\tEnd Frequency [GHz]\t:1.44100341796875\n"
     ]
    }
   ],
   "source": [
    "#This loads the important things from measurement set\n",
    "#From class documentation:\n",
    "\"\"\"\n",
    "Loads important columns from MS file\n",
    "\t\tFrom MS: \n",
    "\t\tField_ID, Data, Flag, Antenna1, Antenna2,\n",
    "\t\tFrom MS/ANTENNA:\n",
    "\t\tPosition,Name\n",
    "\t\tFrom MS/SPECTRAL_WINDOW\n",
    "\t\tChan_width, Chan_freq\n",
    "\"\"\"\n",
    "arfi.load_from_ms()"
   ]
  },
  {
   "cell_type": "code",
   "execution_count": 5,
   "metadata": {},
   "outputs": [
    {
     "name": "stdout",
     "output_type": "stream",
     "text": [
      "[[ 0  4 15 23 30 33 38 42 43 44 54]\n",
      " [ 4  0  9 17 24 29 35 39 40 41 53]\n",
      " [15  9  0  7 14 21 27 34 36 37 52]\n",
      " [23 17  7  0  5 12 20 28 31 32 51]\n",
      " [30 24 14  5  0  3 13 22 25 26 50]\n",
      " [33 29 21 12  3  0  6 16 18 19 49]\n",
      " [38 35 27 20 13  6  0  8 10 11 48]\n",
      " [42 39 34 28 22 16  8  0  0  2 47]\n",
      " [43 40 36 31 25 18 10  0  0  1 46]\n",
      " [44 41 37 32 26 19 11  2  1  0 45]\n",
      " [54 53 52 51 50 49 48 47 46 45  0]]\n"
     ]
    }
   ],
   "source": [
    "#This gets baseline information\n",
    "#From class documentation:\n",
    "\"\"\"\n",
    "\t\tReads which baselines were used in the observations\n",
    "\t\tStores them sorted by lenght in the array baselines_sort\n",
    "\t\tCreates the Matrix to analize visibilites on each baseline separately\n",
    "\"\"\"\n",
    "\n",
    "#Note that quotes for badant parameter are very important!\n",
    "#arfi.aperfi_badant = '[4]'\n",
    "#arfi.aperfi_badant='[]'\n",
    "\n",
    "arfi.baselines_from_ms()\n",
    "\n",
    "#the reported output is a matrix of baselines where the number is the index from\n",
    "#the length sorting"
   ]
  },
  {
   "cell_type": "code",
   "execution_count": 6,
   "metadata": {},
   "outputs": [],
   "source": [
    "#This applies known flags\n",
    "#From class documentation:\n",
    "'''\n",
    "\n",
    "\t\tFlags YY,XY,YX polarizations\n",
    "\t\tFlags autocorrelations\n",
    "\t\tFlags bad antennas set by aperfi_badant = [ x, y, z ]\n",
    "\t\tStores them sorted by lenght in the array baselines_sort\n",
    "\n",
    "'''\n",
    "    \n",
    "arfi.priors_flag()"
   ]
  },
  {
   "cell_type": "code",
   "execution_count": 15,
   "metadata": {},
   "outputs": [
    {
     "ename": "AttributeError",
     "evalue": "'numpy.ndarray' object has no attribute 'lower'",
     "output_type": "error",
     "traceback": [
      "\u001b[0;31m---------------------------------------------------------------------------\u001b[0m",
      "\u001b[0;31mAttributeError\u001b[0m                            Traceback (most recent call last)",
      "\u001b[0;32m<ipython-input-15-7932c854e097>\u001b[0m in \u001b[0;36m<module>\u001b[0;34m()\u001b[0m\n\u001b[1;32m     13\u001b[0m '''\n\u001b[1;32m     14\u001b[0m \u001b[0;34m\u001b[0m\u001b[0m\n\u001b[0;32m---> 15\u001b[0;31m \u001b[0marfi\u001b[0m\u001b[0;34m.\u001b[0m\u001b[0mfind_rfi\u001b[0m\u001b[0;34m(\u001b[0m\u001b[0;34m)\u001b[0m\u001b[0;34m\u001b[0m\u001b[0m\n\u001b[0m\u001b[1;32m     16\u001b[0m \u001b[0;34m\u001b[0m\u001b[0m\n\u001b[1;32m     17\u001b[0m \u001b[0;31m#this does not currently work\u001b[0m\u001b[0;34m\u001b[0m\u001b[0;34m\u001b[0m\u001b[0m\n",
      "\u001b[0;32m/home/adams/apercal/third_party/aperfi_class.py\u001b[0m in \u001b[0;36mfind_rfi\u001b[0;34m(self)\u001b[0m\n\u001b[1;32m    240\u001b[0m                                 \u001b[0mself\u001b[0m\u001b[0;34m.\u001b[0m\u001b[0mrms\u001b[0m\u001b[0;34m[\u001b[0m\u001b[0mi\u001b[0m\u001b[0;34m,\u001b[0m\u001b[0mj\u001b[0m\u001b[0;34m]\u001b[0m \u001b[0;34m=\u001b[0m \u001b[0;36m100.\u001b[0m\u001b[0;34m*\u001b[0m\u001b[0mtmp_over\u001b[0m\u001b[0;34m/\u001b[0m\u001b[0mtime_ax_len\u001b[0m\u001b[0;34m\u001b[0m\u001b[0m\n\u001b[1;32m    241\u001b[0m \u001b[0;34m\u001b[0m\u001b[0m\n\u001b[0;32m--> 242\u001b[0;31m                 \u001b[0mself\u001b[0m\u001b[0;34m.\u001b[0m\u001b[0mwrite_freq_base\u001b[0m\u001b[0;34m(\u001b[0m\u001b[0;34m)\u001b[0m\u001b[0;34m\u001b[0m\u001b[0m\n\u001b[0m\u001b[1;32m    243\u001b[0m \u001b[0;34m\u001b[0m\u001b[0m\n\u001b[1;32m    244\u001b[0m                 \u001b[0;32mreturn\u001b[0m \u001b[0;36m0\u001b[0m\u001b[0;34m\u001b[0m\u001b[0m\n",
      "\u001b[0;32m/home/adams/apercal/third_party/aperfi_class.py\u001b[0m in \u001b[0;36mwrite_freq_base\u001b[0;34m(self)\u001b[0m\n\u001b[1;32m    320\u001b[0m \u001b[0;34m\u001b[0m\u001b[0m\n\u001b[1;32m    321\u001b[0m                 \u001b[0;31m#write file\u001b[0m\u001b[0;34m\u001b[0m\u001b[0;34m\u001b[0m\u001b[0m\n\u001b[0;32m--> 322\u001b[0;31m                 \u001b[0mhdulist\u001b[0m\u001b[0;34m.\u001b[0m\u001b[0mwriteto\u001b[0m\u001b[0;34m(\u001b[0m\u001b[0mself\u001b[0m\u001b[0;34m.\u001b[0m\u001b[0mrfi_freq_base\u001b[0m\u001b[0;34m,\u001b[0m\u001b[0mself\u001b[0m\u001b[0;34m.\u001b[0m\u001b[0mrms\u001b[0m\u001b[0;34m,\u001b[0m\u001b[0mheader\u001b[0m\u001b[0;34m)\u001b[0m\u001b[0;34m\u001b[0m\u001b[0m\n\u001b[0m\u001b[1;32m    323\u001b[0m                 \u001b[0mhdulist\u001b[0m\u001b[0;34m.\u001b[0m\u001b[0mclose\u001b[0m\u001b[0;34m(\u001b[0m\u001b[0;34m)\u001b[0m\u001b[0;34m\u001b[0m\u001b[0m\n\u001b[1;32m    324\u001b[0m \u001b[0;34m\u001b[0m\u001b[0m\n",
      "\u001b[0;32m/home/apercal/pipeline/local/lib/python2.7/site-packages/astropy/utils/decorators.pyc\u001b[0m in \u001b[0;36mwrapper\u001b[0;34m(*args, **kwargs)\u001b[0m\n\u001b[1;32m    505\u001b[0m                         \u001b[0;31m# one with the name of the new argument to the function\u001b[0m\u001b[0;34m\u001b[0m\u001b[0;34m\u001b[0m\u001b[0m\n\u001b[1;32m    506\u001b[0m                         \u001b[0mkwargs\u001b[0m\u001b[0;34m[\u001b[0m\u001b[0mnew_name\u001b[0m\u001b[0;34m[\u001b[0m\u001b[0mi\u001b[0m\u001b[0;34m]\u001b[0m\u001b[0;34m]\u001b[0m \u001b[0;34m=\u001b[0m \u001b[0mvalue\u001b[0m\u001b[0;34m\u001b[0m\u001b[0m\n\u001b[0;32m--> 507\u001b[0;31m             \u001b[0;32mreturn\u001b[0m \u001b[0mfunction\u001b[0m\u001b[0;34m(\u001b[0m\u001b[0;34m*\u001b[0m\u001b[0margs\u001b[0m\u001b[0;34m,\u001b[0m \u001b[0;34m**\u001b[0m\u001b[0mkwargs\u001b[0m\u001b[0;34m)\u001b[0m\u001b[0;34m\u001b[0m\u001b[0m\n\u001b[0m\u001b[1;32m    508\u001b[0m \u001b[0;34m\u001b[0m\u001b[0m\n\u001b[1;32m    509\u001b[0m         \u001b[0;32mreturn\u001b[0m \u001b[0mwrapper\u001b[0m\u001b[0;34m\u001b[0m\u001b[0m\n",
      "\u001b[0;32m/home/apercal/pipeline/local/lib/python2.7/site-packages/astropy/io/fits/hdu/hdulist.pyc\u001b[0m in \u001b[0;36mwriteto\u001b[0;34m(self, fileobj, output_verify, overwrite, checksum)\u001b[0m\n\u001b[1;32m    862\u001b[0m             \u001b[0;32mreturn\u001b[0m\u001b[0;34m\u001b[0m\u001b[0m\n\u001b[1;32m    863\u001b[0m \u001b[0;34m\u001b[0m\u001b[0m\n\u001b[0;32m--> 864\u001b[0;31m         \u001b[0mself\u001b[0m\u001b[0;34m.\u001b[0m\u001b[0mverify\u001b[0m\u001b[0;34m(\u001b[0m\u001b[0moption\u001b[0m\u001b[0;34m=\u001b[0m\u001b[0moutput_verify\u001b[0m\u001b[0;34m)\u001b[0m\u001b[0;34m\u001b[0m\u001b[0m\n\u001b[0m\u001b[1;32m    865\u001b[0m \u001b[0;34m\u001b[0m\u001b[0m\n\u001b[1;32m    866\u001b[0m         \u001b[0;31m# make sure the EXTEND keyword is there if there is extension\u001b[0m\u001b[0;34m\u001b[0m\u001b[0;34m\u001b[0m\u001b[0m\n",
      "\u001b[0;32m/home/apercal/pipeline/local/lib/python2.7/site-packages/astropy/io/fits/verify.pyc\u001b[0m in \u001b[0;36mverify\u001b[0;34m(self, option)\u001b[0m\n\u001b[1;32m     66\u001b[0m         \"\"\"\n\u001b[1;32m     67\u001b[0m \u001b[0;34m\u001b[0m\u001b[0m\n\u001b[0;32m---> 68\u001b[0;31m         \u001b[0mopt\u001b[0m \u001b[0;34m=\u001b[0m \u001b[0moption\u001b[0m\u001b[0;34m.\u001b[0m\u001b[0mlower\u001b[0m\u001b[0;34m(\u001b[0m\u001b[0;34m)\u001b[0m\u001b[0;34m\u001b[0m\u001b[0m\n\u001b[0m\u001b[1;32m     69\u001b[0m         \u001b[0;32mif\u001b[0m \u001b[0mopt\u001b[0m \u001b[0;32mnot\u001b[0m \u001b[0;32min\u001b[0m \u001b[0mVERIFY_OPTIONS\u001b[0m\u001b[0;34m:\u001b[0m\u001b[0;34m\u001b[0m\u001b[0m\n\u001b[1;32m     70\u001b[0m             \u001b[0;32mraise\u001b[0m \u001b[0mValueError\u001b[0m\u001b[0;34m(\u001b[0m\u001b[0;34m'Option {!r} not recognized.'\u001b[0m\u001b[0;34m.\u001b[0m\u001b[0mformat\u001b[0m\u001b[0;34m(\u001b[0m\u001b[0moption\u001b[0m\u001b[0;34m)\u001b[0m\u001b[0;34m)\u001b[0m\u001b[0;34m\u001b[0m\u001b[0m\n",
      "\u001b[0;31mAttributeError\u001b[0m: 'numpy.ndarray' object has no attribute 'lower'"
     ]
    }
   ],
   "source": [
    "#Find the rfi, so that it can be flagged\n",
    "#this is task rfi_flag\n",
    "#This identifies the rfi by finding everything above a 5sigma level\n",
    "#The important part is that the RFI free region of the spectrum to\n",
    "#use as a reference is defined manually in the configuration file\n",
    "#This does not smooth spectrally at the moment\n",
    "'''\n",
    "\n",
    "\t\tFor each baseline finds all signal above rms*aperfi_clip\n",
    "\t\tCreates a cube of visibilities sorted by baseline_lengh , frequency, time\n",
    "\t\tStores them sorted by lenght in the array baselines_sort\n",
    "\t\tCreates the Matrix to analize visibilites on each baseline separately\n",
    "'''\n",
    "\n",
    "arfi.find_rfi()\n",
    "\n",
    "#this does not currently work --> appears to be an issue with writing a file out?"
   ]
  },
  {
   "cell_type": "code",
   "execution_count": 9,
   "metadata": {},
   "outputs": [
    {
     "ename": "NameError",
     "evalue": "global name 'mean_array' is not defined",
     "output_type": "error",
     "traceback": [
      "\u001b[0;31m---------------------------------------------------------------------------\u001b[0m",
      "\u001b[0;31mNameError\u001b[0m                                 Traceback (most recent call last)",
      "\u001b[0;32m<ipython-input-9-42a8dbf36a69>\u001b[0m in \u001b[0;36m<module>\u001b[0;34m()\u001b[0m\n\u001b[1;32m      7\u001b[0m '''\n\u001b[1;32m      8\u001b[0m \u001b[0;34m\u001b[0m\u001b[0m\n\u001b[0;32m----> 9\u001b[0;31m \u001b[0marfi\u001b[0m\u001b[0;34m.\u001b[0m\u001b[0mrfi_flag\u001b[0m\u001b[0;34m(\u001b[0m\u001b[0;34m)\u001b[0m\u001b[0;34m\u001b[0m\u001b[0m\n\u001b[0m",
      "\u001b[0;32m/home/adams/apercal/third_party/aperfi_class.py\u001b[0m in \u001b[0;36mrfi_flag\u001b[0;34m(self)\u001b[0m\n\u001b[1;32m    261\u001b[0m \u001b[0;34m\u001b[0m\u001b[0m\n\u001b[1;32m    262\u001b[0m                         \u001b[0;32mfor\u001b[0m \u001b[0mj\u001b[0m \u001b[0;32min\u001b[0m \u001b[0mxrange\u001b[0m\u001b[0;34m(\u001b[0m\u001b[0;36m0\u001b[0m\u001b[0;34m,\u001b[0m\u001b[0mself\u001b[0m\u001b[0;34m.\u001b[0m\u001b[0mvis\u001b[0m\u001b[0;34m.\u001b[0m\u001b[0mshape\u001b[0m\u001b[0;34m[\u001b[0m\u001b[0;36m1\u001b[0m\u001b[0;34m]\u001b[0m\u001b[0;34m)\u001b[0m\u001b[0;34m:\u001b[0m\u001b[0;34m\u001b[0m\u001b[0m\n\u001b[0;32m--> 263\u001b[0;31m                                 \u001b[0mmean\u001b[0m \u001b[0;34m=\u001b[0m \u001b[0mmean_array\u001b[0m\u001b[0;34m[\u001b[0m\u001b[0mindice\u001b[0m\u001b[0;34m,\u001b[0m\u001b[0mi\u001b[0m\u001b[0;34m]\u001b[0m\u001b[0;34m\u001b[0m\u001b[0m\n\u001b[0m\u001b[1;32m    264\u001b[0m                                 \u001b[0;32mif\u001b[0m \u001b[0;34m(\u001b[0m\u001b[0mnp\u001b[0m\u001b[0;34m.\u001b[0m\u001b[0mabs\u001b[0m\u001b[0;34m(\u001b[0m\u001b[0mself\u001b[0m\u001b[0;34m.\u001b[0m\u001b[0mvis\u001b[0m\u001b[0;34m[\u001b[0m\u001b[0mi\u001b[0m\u001b[0;34m,\u001b[0m\u001b[0mj\u001b[0m\u001b[0;34m,\u001b[0m\u001b[0;36m0\u001b[0m\u001b[0;34m]\u001b[0m\u001b[0;34m)\u001b[0m \u001b[0;34m-\u001b[0m \u001b[0mmean\u001b[0m \u001b[0;34m)\u001b[0m \u001b[0;34m>\u001b[0m \u001b[0mflag_clip\u001b[0m\u001b[0;34m:\u001b[0m\u001b[0;34m\u001b[0m\u001b[0m\n\u001b[1;32m    265\u001b[0m \u001b[0;34m\u001b[0m\u001b[0m\n",
      "\u001b[0;31mNameError\u001b[0m: global name 'mean_array' is not defined"
     ]
    }
   ],
   "source": [
    "#now apply the flags - this is because not sure how other steps work\n",
    "#So this creates a new dataset with flags applied\n",
    "#Would like to test and find out if this is really necessary, or is the flag table created enough?\n",
    "\n",
    "'''\n",
    "\t\tCreates a new MS file where RFI has been flagged in the FLAG column\n",
    "'''\n",
    "\n",
    "arfi.rfi_flag()\n",
    "\n",
    "#this also does not work"
   ]
  },
  {
   "cell_type": "code",
   "execution_count": 10,
   "metadata": {},
   "outputs": [
    {
     "name": "stdout",
     "output_type": "stream",
     "text": [
      "/data/adams/apertif/busydays/RFI/B000/rfi/rfi_flagged_vis.MS\n",
      "/data/adams/apertif/busydays/RFI/B000/\n",
      "wsclean -name /data/adams/apertif/busydays/RFI/B000/psfonly -mem 100 -no-dirty -weight natural -super-weight 1.0 -weighting-rank-filter-size 16 -size 1024 1024 -scale 2.6asec -channels-out 1 -grid-mode kb -kernel-size 7 -oversampling 63 -make-psf-only -pol xx -intervals-out 1 -data-column DATA -gain 0.1 -mgain 1.0 -multiscale-scale-bias 0.6 -fit-beam -no-fit-beam /data/adams/apertif/busydays/RFI/B000/rfi/rfi_flagged_vis.MS\n"
     ]
    }
   ],
   "source": [
    "#Now set up a command line to wsclean to produce a dirty beam image\n",
    "\n",
    "print arfi.rfifile\n",
    "\n",
    "output_path = arfi.basedir+arfi.beam +'/'\n",
    "print output_path\n",
    "\n",
    "output_file = output_path+'psfonly'\n",
    "\n",
    "command = ('''wsclean -name '''+\n",
    "            output_file+\n",
    "           ''' -mem 100 -no-dirty -weight natural '''+\n",
    "           '''-super-weight 1.0 -weighting-rank-filter-size 16 -size 1024 1024 '''+\n",
    "           '''-scale 2.6asec -channels-out 1 -grid-mode kb -kernel-size 7 '''+ \n",
    "           '''-oversampling 63 -make-psf-only -pol xx -intervals-out 1 '''+\n",
    "           '''-data-column DATA -gain 0.1 -mgain 1.0 '''+\n",
    "           '''-multiscale-scale-bias 0.6 -fit-beam -no-fit-beam '''\n",
    "           +arfi.rfifile)\n",
    "\n",
    "#Check that the command is reasonably formatted\n",
    "print command\n"
   ]
  },
  {
   "cell_type": "code",
   "execution_count": 11,
   "metadata": {},
   "outputs": [
    {
     "data": {
      "text/plain": [
       "0"
      ]
     },
     "execution_count": 11,
     "metadata": {},
     "output_type": "execute_result"
    }
   ],
   "source": [
    "#Now run the command and hope output ends up in right place!\n",
    "os.system(command)"
   ]
  },
  {
   "cell_type": "code",
   "execution_count": 12,
   "metadata": {},
   "outputs": [
    {
     "name": "stdout",
     "output_type": "stream",
     "text": [
      "/data/adams/apertif/busydays/RFI/B000/raw/WSRTA180309008_B000.MS\n",
      "/data/adams/apertif/busydays/RFI/B000/\n",
      "wsclean -name /data/adams/apertif/busydays/RFI/B000/psfonly_noflags -mem 100 -no-dirty -weight natural -super-weight 1.0 -weighting-rank-filter-size 16 -size 1024 1024 -scale 2.6asec -channels-out 1 -grid-mode kb -kernel-size 7 -oversampling 63 -make-psf-only -pol xx -intervals-out 1 -data-column DATA -gain 0.1 -mgain 1.0 -multiscale-scale-bias 0.6 -fit-beam -no-fit-beam /data/adams/apertif/busydays/RFI/B000/rfi/rfi_flagged_vis.MS\n"
     ]
    }
   ],
   "source": [
    "#Follow-up on to-do and make a beam without flagging\n",
    "#But note that I'm not flagging currently\n",
    "#so this is not super useful...\n",
    "\n",
    "print arfi.msfile\n",
    "#this is the orignal ms set, no flags applied\n",
    "\n",
    "output_path = arfi.basedir+arfi.beam +'/'\n",
    "print output_path\n",
    "\n",
    "output_file_noflags = output_path+'psfonly_noflags'\n",
    "\n",
    "command = ('''wsclean -name '''+\n",
    "            output_file_noflags+\n",
    "           ''' -mem 100 -no-dirty -weight natural '''+\n",
    "           '''-super-weight 1.0 -weighting-rank-filter-size 16 -size 1024 1024 '''+\n",
    "           '''-scale 2.6asec -channels-out 1 -grid-mode kb -kernel-size 7 '''+ \n",
    "           '''-oversampling 63 -make-psf-only -pol xx -intervals-out 1 '''+\n",
    "           '''-data-column DATA -gain 0.1 -mgain 1.0 '''+\n",
    "           '''-multiscale-scale-bias 0.6 -fit-beam -no-fit-beam '''\n",
    "           +arfi.rfifile)\n",
    "\n",
    "#Check that the command is reasonably formatted\n",
    "print command"
   ]
  },
  {
   "cell_type": "code",
   "execution_count": 13,
   "metadata": {},
   "outputs": [
    {
     "data": {
      "text/plain": [
       "0"
      ]
     },
     "execution_count": 13,
     "metadata": {},
     "output_type": "execute_result"
    }
   ],
   "source": [
    "#Now run the command and hope output ends up in right place!\n",
    "os.system(command)"
   ]
  },
  {
   "cell_type": "code",
   "execution_count": 14,
   "metadata": {},
   "outputs": [
    {
     "name": "stdout",
     "output_type": "stream",
     "text": [
      "INFO: Setting slices=[0, 0] [aplpy.core]\n"
     ]
    },
    {
     "name": "stderr",
     "output_type": "stream",
     "text": [
      "/home/apercal/pipeline/local/lib/python2.7/site-packages/aplpy/labels.py:432: UnicodeWarning: Unicode equal comparison failed to convert both arguments to Unicode - interpreting them as being unequal\n",
      "  if self.coord == x or self.axis.apl_tick_positions_world[ipos] > 0:\n"
     ]
    },
    {
     "name": "stdout",
     "output_type": "stream",
     "text": [
      "INFO: Auto-setting vmin to -1.194e-01 [aplpy.core]\n",
      "INFO: Auto-setting vmax to  3.085e-01 [aplpy.core]\n",
      "INFO: Setting slices=[0, 0] [aplpy.core]\n",
      "INFO: Auto-setting vmin to -1.194e-01 [aplpy.core]\n",
      "INFO: Auto-setting vmax to  3.085e-01 [aplpy.core]\n"
     ]
    },
    {
     "data": {
      "image/png": "[encoded data removed]",
      "text/plain": [
       "<matplotlib.figure.Figure at 0x7f7899229bd0>"
      ]
     },
     "metadata": {},
     "output_type": "display_data"
    }
   ],
   "source": [
    "#And now make a figure comparing the two beams\n",
    "#This will show nothing in this case, since no flagging was done\n",
    "\n",
    "noflags = output_file_noflags+'-psf.fits'\n",
    "flags = output_file+'-psf.fits'\n",
    "\n",
    "fig=plt.figure(figsize=(12,6))\n",
    "\n",
    "f1=aplpy.FITSFigure(noflags,figure=fig,aspect='equal',subplot=[0.1,0.15,0.35,0.7])\n",
    "f1.show_grayscale()\n",
    "f1.tick_labels.set_yformat('ddd.dd')\n",
    "f1.tick_labels.set_xformat('ddd.dd')\n",
    "\n",
    "f2=aplpy.FITSFigure(flags,figure=fig,aspect='equal',subplot=[0.6,0.15,0.35,0.7])\n",
    "f2.show_grayscale()\n",
    "f2.tick_labels.set_yformat('ddd.dd')\n",
    "f2.tick_labels.set_xformat('ddd.dd')"
   ]
  },
  {
   "cell_type": "code",
   "execution_count": null,
   "metadata": {},
   "outputs": [],
   "source": [
    "#Now look at the capabilities for plots of RFI"
   ]
  },
  {
   "cell_type": "code",
   "execution_count": null,
   "metadata": {},
   "outputs": [],
   "source": []
  },
  {
   "cell_type": "code",
   "execution_count": null,
   "metadata": {},
   "outputs": [],
   "source": []
  },
  {
   "cell_type": "code",
   "execution_count": null,
   "metadata": {},
   "outputs": [],
   "source": [
    "\"\"\"To add to tutorial:\n",
    "Compute beam with and without flagging and do a comparison\n",
    "Also the nice plots (but need info from Filippo)\"\"\""
   ]
  }
 ],
 "metadata": {
  "kernelspec": {
   "display_name": "Python 2",
   "language": "python",
   "name": "python2"
  },
  "language_info": {
   "codemirror_mode": {
    "name": "ipython",
    "version": 2
   },
   "file_extension": ".py",
   "mimetype": "text/x-python",
   "name": "python",
   "nbconvert_exporter": "python",
   "pygments_lexer": "ipython2",
   "version": "2.7.12"
  }
 },
 "nbformat": 4,
 "nbformat_minor": 2
}
