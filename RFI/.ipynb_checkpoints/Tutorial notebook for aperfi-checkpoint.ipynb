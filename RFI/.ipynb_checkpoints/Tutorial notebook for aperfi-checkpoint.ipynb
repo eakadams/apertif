{
 "cells": [
  {
   "cell_type": "markdown",
   "metadata": {},
   "source": [
    "aperfi is a module for apercal (in third_party) designed by Filippo Maccagni for examing RFI in Apertif data\n",
    "<br>\n",
    "<br>\n",
    "This is a notebook by Betsey Adams as a tutorial for the functionality and how to use Aperfi.\n",
    "<br> <br>\n",
    "This notebook is based on the script <aperfi_script.py> by Filippo which performs all the current (29 March 2018) functionality of aperfi"
   ]
  },
  {
   "cell_type": "code",
   "execution_count": 1,
   "metadata": {},
   "outputs": [
    {
     "name": "stderr",
     "output_type": "stream",
     "text": [
      "/home/apercal/pipeline/local/lib/python2.7/site-packages/pyfits/__init__.py:22: PyFITSDeprecationWarning: PyFITS is deprecated, please use astropy.io.fits\n",
      "  PyFITSDeprecationWarning)  # noqa\n",
      "/home/apercal/pipeline/local/lib/python2.7/site-packages/matplotlib/cbook/deprecation.py:106: MatplotlibDeprecationWarning: The mpl_toolkits.axes_grid module was deprecated in version 2.1. Use mpl_toolkits.axes_grid1 and mpl_toolkits.axisartist provies the same functionality instead.\n",
      "  warnings.warn(message, mplDeprecation, stacklevel=1)\n"
     ]
    },
    {
     "name": "stdout",
     "output_type": "stream",
     "text": [
      "Setup logger with lib.setup_logger()\n"
     ]
    },
    {
     "data": {
      "text/plain": [
       "'Note for something to ask Filippo: Is it useful/possible to start a logger\\nas in apercal? Does that happen automatically?'"
      ]
     },
     "execution_count": 1,
     "metadata": {},
     "output_type": "execute_result"
    }
   ],
   "source": [
    "#First, load the needed packages\n",
    "from third_party.aperfi_class import aperfi_class as aperfi\n",
    "import sys, os\n",
    "\n",
    "#No need to set up a log (as in apercal) because nothing is reported to logger"
   ]
  },
  {
   "cell_type": "code",
   "execution_count": 10,
   "metadata": {},
   "outputs": [
    {
     "name": "stdout",
     "output_type": "stream",
     "text": [
      "RFI\n",
      "\taperfi_uvaver = True\n",
      "\taperfi_badant = []\n",
      "\taperfi_rmsclip = 5\n",
      "\taperfi_rfifree_min = 1422000000.0\n",
      "\taperfi_rfifree_max = 1430000000.0\n"
     ]
    }
   ],
   "source": [
    "#load the configuration file and check it\n",
    "filename = '/home/adams/apertif/RFI/rfi.cfga'\n",
    "arfi = aperfi(filename)\n",
    "arfi.show()"
   ]
  },
  {
   "cell_type": "code",
   "execution_count": 4,
   "metadata": {},
   "outputs": [
    {
     "name": "stdout",
     "output_type": "stream",
     "text": [
      "/data/adams/apertif/busydays/RFI/B000/rfi/\n"
     ]
    }
   ],
   "source": [
    "#Check that working directory is set properly in config file:\n",
    "print arfi.rfidir"
   ]
  },
  {
   "cell_type": "code",
   "execution_count": 12,
   "metadata": {},
   "outputs": [
    {
     "name": "stdout",
     "output_type": "stream",
     "text": [
      "Successful readonly open of default-locked table /data/adams/apertif/busydays/RFI/B000/raw/WSRTA180309008_B000.MS: 23 columns, 15510 rows\n",
      "Successful readonly open of default-locked table /data/adams/apertif/busydays/RFI/B000/raw/WSRTA180309008_B000.MS/ANTENNA: 8 columns, 11 rows\n",
      "\tTotal number of antennas\t:11\n",
      "\tAntenna names\t[ 0  1  2  3  4  5  6  7  8  9 10]\n",
      "Successful readonly open of default-locked table /data/adams/apertif/busydays/RFI/B000/raw/WSRTA180309008_B000.MS/SPECTRAL_WINDOW: 14 columns, 1 rows\n",
      "\tBandwidth [kHz]\t:12.20703125\n",
      "\tStart Frequency [GHz]\t:1.306640625\n",
      "\tEnd Frequency [GHz]\t:1.44100341796875\n"
     ]
    }
   ],
   "source": [
    "#This loads the important things from measurement set\n",
    "#From class documentation:\n",
    "\"\"\"\n",
    "Loads important columns from MS file\n",
    "\t\tFrom MS: \n",
    "\t\tField_ID, Data, Flag, Antenna1, Antenna2,\n",
    "\t\tFrom MS/ANTENNA:\n",
    "\t\tPosition,Name\n",
    "\t\tFrom MS/SPECTRAL_WINDOW\n",
    "\t\tChan_width, Chan_freq\n",
    "\"\"\"\n",
    "arfi.load_from_ms()"
   ]
  },
  {
   "cell_type": "code",
   "execution_count": 13,
   "metadata": {},
   "outputs": [
    {
     "name": "stdout",
     "output_type": "stream",
     "text": [
      "[[ 0  4 15 23 30 33 38 42 43 44 54]\n",
      " [ 4  0  9 17 24 29 35 39 40 41 53]\n",
      " [15  9  0  7 14 21 27 34 36 37 52]\n",
      " [23 17  7  0  5 12 20 28 31 32 51]\n",
      " [30 24 14  5  0  3 13 22 25 26 50]\n",
      " [33 29 21 12  3  0  6 16 18 19 49]\n",
      " [38 35 27 20 13  6  0  8 10 11 48]\n",
      " [42 39 34 28 22 16  8  0  0  2 47]\n",
      " [43 40 36 31 25 18 10  0  0  1 46]\n",
      " [44 41 37 32 26 19 11  2  1  0 45]\n",
      " [54 53 52 51 50 49 48 47 46 45  0]]\n"
     ]
    }
   ],
   "source": [
    "#This gets baseline information\n",
    "#From class documentation:\n",
    "\"\"\"\n",
    "\t\tReads which baselines were used in the observations\n",
    "\t\tStores them sorted by lenght in the array baselines_sort\n",
    "\t\tCreates the Matrix to analize visibilites on each baseline separately\n",
    "\"\"\"\n",
    "\n",
    "#Note that quotes for badant parameter are very important!\n",
    "#arfi.aperfi_badant = '[4]'\n",
    "#arfi.aperfi_badant='[]'\n",
    "\n",
    "arfi.baselines_from_ms()\n",
    "\n",
    "#the reported output is a matrix of baselines where the number is the index from\n",
    "#the length sorting"
   ]
  },
  {
   "cell_type": "code",
   "execution_count": 14,
   "metadata": {},
   "outputs": [],
   "source": [
    "#This applies known flags\n",
    "#From class documentation:\n",
    "'''\n",
    "\n",
    "\t\tFlags YY,XY,YX polarizations\n",
    "\t\tFlags autocorrelations\n",
    "\t\tFlags bad antennas set by aperfi_badant = [ x, y, z ]\n",
    "\t\tStores them sorted by lenght in the array baselines_sort\n",
    "\n",
    "'''\n",
    "    \n",
    "arfi.priors_flag()"
   ]
  },
  {
   "cell_type": "code",
   "execution_count": 16,
   "metadata": {},
   "outputs": [
    {
     "name": "stdout",
     "output_type": "stream",
     "text": [
      "Successful readonly open of default-locked table /data/adams/apertif/busydays/RFI/B000/raw/WSRTA180309008_B000.MS: 23 columns, 15510 rows\n",
      "Successful read/write open of default-locked table /data/adams/apertif/busydays/RFI/B000/rfi/rfi_flagged_vis.MS: 23 columns, 15510 rows\n"
     ]
    }
   ],
   "source": [
    "#This identifies the rfi by finding everything above a 5sigma level\n",
    "#The important part is that the RFI free region of the spectrum to\n",
    "#use as a reference is defined manually in the configuration file\n",
    "#This does not smooth spectrally at the moment\n",
    "\n",
    "'''\n",
    "\t\tFor each baseline finds all signal above rms*aperfi_clip\n",
    "\t\tCreates a cube of visibilities sorted by baseline_lengh , frequency, time\n",
    "\t\tStores them sorted by lenght in the array baselines_sort\n",
    "\t\tCreates the Matrix to analize visibilites on each baseline separately\n",
    "'''\n",
    "\n",
    "arfi.rfi_flag()"
   ]
  },
  {
   "cell_type": "code",
   "execution_count": 25,
   "metadata": {},
   "outputs": [
    {
     "name": "stdout",
     "output_type": "stream",
     "text": [
      "/data/adams/apertif/busydays/RFI/B000/rfi/rfi_flagged_vis.MS\n",
      "/data/adams/apertif/busydays/RFI/B000/\n",
      "wsclean -name /data/adams/apertif/busydays/RFI/B000/psfonly -mem 100 -no-dirty -weight natural -super-weight 1.0 -weighting-rank-filter-size 16 -size 1024 1024 -scale 2.6asec -channels-out 1 -grid-mode kb -kernel-size 7 -oversampling 63 -make-psf-only -pol xx -intervals-out 1 -data-column DATA -gain 0.1 -mgain 1.0 -multiscale-scale-bias 0.6 -fit-beam -no-fit-beam /data/adams/apertif/busydays/RFI/B000/rfi/rfi_flagged_vis.MS\n"
     ]
    }
   ],
   "source": [
    "#Now set up a command line to wsclean to produce a dirty beam image\n",
    "\n",
    "print arfi.rfifile\n",
    "\n",
    "output_path = arfi.basedir+arfi.beam +'/'\n",
    "print output_path\n",
    "\n",
    "output_file = output_path+'psfonly'\n",
    "\n",
    "command = ('''wsclean -name '''+\n",
    "            output_file+\n",
    "           ''' -mem 100 -no-dirty -weight natural '''+\n",
    "           '''-super-weight 1.0 -weighting-rank-filter-size 16 -size 1024 1024 '''+\n",
    "           '''-scale 2.6asec -channels-out 1 -grid-mode kb -kernel-size 7 '''+ \n",
    "           '''-oversampling 63 -make-psf-only -pol xx -intervals-out 1 '''+\n",
    "           '''-data-column DATA -gain 0.1 -mgain 1.0 '''+\n",
    "           '''-multiscale-scale-bias 0.6 -fit-beam -no-fit-beam '''\n",
    "           +arfi.rfifile)\n",
    "\n",
    "#Check that the command is reasonably formatted\n",
    "print command\n"
   ]
  },
  {
   "cell_type": "code",
   "execution_count": 26,
   "metadata": {},
   "outputs": [
    {
     "data": {
      "text/plain": [
       "0"
      ]
     },
     "execution_count": 26,
     "metadata": {},
     "output_type": "execute_result"
    }
   ],
   "source": [
    "#Now run the command and hope output ends up in right place!\n",
    "os.system(command)"
   ]
  },
  {
   "cell_type": "code",
   "execution_count": null,
   "metadata": {},
   "outputs": [],
   "source": [
    "\"\"\"To add to tutorial:\n",
    "Compute beam with and without flagging and do a comparison\"\"\""
   ]
  }
 ],
 "metadata": {
  "kernelspec": {
   "display_name": "Python 2",
   "language": "python",
   "name": "python2"
  },
  "language_info": {
   "codemirror_mode": {
    "name": "ipython",
    "version": 2
   },
   "file_extension": ".py",
   "mimetype": "text/x-python",
   "name": "python",
   "nbconvert_exporter": "python",
   "pygments_lexer": "ipython2",
   "version": "2.7.12"
  }
 },
 "nbformat": 4,
 "nbformat_minor": 2
}
